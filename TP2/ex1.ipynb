{
 "cells": [
  {
   "attachments": {},
   "cell_type": "markdown",
   "metadata": {},
   "source": [
    "## TP2 | Exercício 1 | Grupo 15\n",
    "### Pedro Araújo - pg50684\n",
    "### Nuno Dias Mata - Pg44420"
   ]
  },
  {
   "cell_type": "markdown",
   "metadata": {},
   "source": []
  },
  {
   "attachments": {},
   "cell_type": "markdown",
   "metadata": {},
   "source": [
    "###  Questão proposta , `parte 1`:\n",
    "#### 1. Construir uma classe Python que implemente um KEM - ElGamal\n",
    "#### a. Inicializar cada instância recebendo  o parâmetro de segurança (tamanho em bits da ordem do grupo cíclico) e gere as chaves pública e privada. \n",
    "#### b. Conter funções para encapsulamento e revelação da chave gerada."
   ]
  },
  {
   "attachments": {},
   "cell_type": "markdown",
   "metadata": {},
   "source": [
    "- A fim de comprir estes passos da parte 1 do primeiro exercício foi realizado os seguintes passos na criação da classe ElGamalKEM:\n",
    "\n",
    "1. Criar função de inicialização , onde irá inicializar os parametros: salt (para chave simétrica) , key_length (tamanho da chave) , prime ( número primo grande aleatório) , g ( gerador do grupo cíclico finito) , privk (chave privada que será numero aleatório da grandeza do número primo) , publick ( chave pública que é dada por realizar a operação de `y = g^x (mod p)` utilizando o grupo ciclico , chave privada e o nº primo )\n",
    "\n",
    "2. Após a incialização de todas variáveis necessárias, é utilizado uma função auxiliar `generate_rand` que irá gerar um número aleatório que servirá por enquanto para efeitos de teste como mensagem a ser encapsulada e seed para a geração da chave simétrica. Para parte 2 irá ser utilizado uma mensagem real.\n",
    "\n",
    "3. Agora é possível realizar o Encapsulamento , com a função `encapsulate` que recebe como parâmetro a seed para a chave simétrica e para mensagem de encapsulamento. Para a cifragem é criado 2 operações : c1 (parte aleatória que é gerada a cada vez que é encapsulada utilizando o grupo cíclico e um numero aleatório) e c2 ( que irá utilizar a chave pública para encapsular a mensagem) , e após essa cifragem também é gerado uma chave simétrica utilizando o pbkdf2.\n",
    "\n",
    "4. Para a parte do desencapsulamento , na função `decapsulate` , é utilizado as 2 cifragens produzidas (c1 e c2) onde será extraída a mensagem/seed utilizando a chave privada. Após extraída, para verificar se a chave produzida é simétrica é criado mais uma vez uma chave utilizando o pbkdf2.\n"
   ]
  },
  {
   "cell_type": "code",
   "execution_count": 4,
   "metadata": {},
   "outputs": [],
   "source": [
    "import os\n",
    "import hashlib\n",
    "from sage.all import *\n",
    "\n",
    "class ElGamalKEM:\n",
    "    def __init__(self, key_bits):\n",
    "        # salt utilizado para criar a chave simétrica\n",
    "        self.salt = os.urandom(16)\n",
    "        # tamanho da chave\n",
    "        self.key_length = 2**key_bits\n",
    "        # geração do primo da grandeza da chave \n",
    "        self.prime = random_prime(self.key_length, lbound=2**(key_bits - 1))\n",
    "        # grupo cíclico finito \n",
    "        G = IntegerModRing(self.prime)\n",
    "        self.g = G.random_element()\n",
    "        #Chave privada\n",
    "        self.privk = randrange(1, self.prime - 2)\n",
    "        # Chave pública\n",
    "        self.publick = self.g**self.privk % self.prime\n",
    "\n",
    "\n",
    "    def encapsulate(self, seedKey):\n",
    "        k = randrange(1, self.prime - 1)\n",
    "        #chave cifradas \n",
    "        c1 = self.g**k % self.prime\n",
    "        c2 = (seedKey * self.publick**k) % self.prime\n",
    "\n",
    "        keyBytes = str(seedKey).encode()\n",
    "        # chave simétrica\n",
    "        chave = hashlib.pbkdf2_hmac('sha256', keyBytes, self.salt, 100000) \n",
    "        return chave , c1 , c2\n",
    "\n",
    "    def decapsulate(self, c1, c2):\n",
    "        s = c1**self.privk % self.prime\n",
    "        if s == 0 :\n",
    "            return 0\n",
    "        key = c2 // s % self.prime\n",
    "            \n",
    "        keyBytes = str(key).encode()\n",
    "        chave = hashlib.pbkdf2_hmac('sha256', keyBytes, self.salt, 100000)\n",
    "            \n",
    "        return chave\n",
    "\n",
    "    def generate_rand(self):\n",
    "        self.key = randrange(1, self.prime - 1)\n",
    "\n",
    "    def set_key(self, key):\n",
    "        self.key = key\n",
    "\n",
    "    def get_public_key(self):\n",
    "        return self.publick\n",
    "\n",
    "    def get_private_key(self):\n",
    "        return self.privk\n",
    "\n",
    "    def get_key(self):\n",
    "        return self.key"
   ]
  },
  {
   "attachments": {},
   "cell_type": "markdown",
   "metadata": {},
   "source": [
    "- Parte de testes da classe"
   ]
  },
  {
   "cell_type": "code",
   "execution_count": 2,
   "metadata": {},
   "outputs": [
    {
     "name": "stdout",
     "output_type": "stream",
     "text": [
      "b'\\x1bz\\xfe)\\xf6\\xff\\x9d\\x14\\xad\\xfe\\xcb\\xca+\\x86$\\x84R&\\xa2\\x80\\xd2\\xb4\\x84\\x1fH\\x9f\\xa1\\xec\\xbeC\\x8c*'\n",
      "b'\\x1bz\\xfe)\\xf6\\xff\\x9d\\x14\\xad\\xfe\\xcb\\xca+\\x86$\\x84R&\\xa2\\x80\\xd2\\xb4\\x84\\x1fH\\x9f\\xa1\\xec\\xbeC\\x8c*'\n",
      "As chaves são iguais!\n"
     ]
    }
   ],
   "source": [
    "# Criando uma instância da classe utilizando \n",
    "key_Blength = 1024\n",
    "kem = ElGamalKEM(key_Blength)\n",
    "\n",
    "# Gerando a chave simétrica\n",
    "kem.generate_rand()\n",
    "# Encapsulando a chave simétrica com a chave pública do destinatário\n",
    "chave,c1, c2 = kem.encapsulate(kem.get_key())\n",
    "\n",
    "# Decapsulando a chave simétrica usando a chave privada do destinatário\n",
    "key = kem.decapsulate(c1, c2)\n",
    "if key == 0:\n",
    "    print(\"A decapsulação falhou , o destinatário não tem a chave privada correspondente correta para decapsular\")\n",
    "# Verificando se a chave decapsulada é igual à chave simétrica original \n",
    "print(chave)\n",
    "print(key)\n",
    "if key == chave:\n",
    "    print(\"As chaves são iguais!\")\n",
    "else:\n",
    "    print(\"Falha na revelação\") \n",
    "         \n"
   ]
  },
  {
   "attachments": {},
   "cell_type": "markdown",
   "metadata": {},
   "source": [
    "### `Parte 2` :\n",
    "#### c) Construir,  a partir deste KEM e usando a transformação de Fujisaki-Okamoto, um PKE que seja IND-CCA seguro.\n"
   ]
  },
  {
   "attachments": {},
   "cell_type": "markdown",
   "metadata": {},
   "source": [
    "- A fim usar a classe de KEM na transformação de FuFujisaki-Okamoto para formar um PKE IND-CCA seguro , foi realizado os seguintes passos:\n",
    "\n",
    "1. `inicalização` : é inciado a classe com o parâmetro necessário para geração da classe ElGamalKEM(tamanho da chave) , de forma que gere um variável kem que possua todos os atributo desta classe.\n",
    "\n",
    "2. `cifra` : na função de cifra da mensagem 'encrypt' é realizado os seguintes passos:\n",
    "    - `r aleatório` : é gerado um inteiro r aleatório utilizando a função da classe kem  generate_rand() , onde irá gerar 1 < r < (grandeza da chave)\n",
    "    - `função de hash no r` : é colocado na variável g , a operação de realizar um função hash SHA-256 no inteiro r\n",
    "    - `XOR na mensagem` : é efetuado o xor na mensagem a cifrar e o g gerado anteriormente, e guarda na variável maskxor, onde depois é colocado na variável new_r o valor de maskxor adicionado ao valor de r em bytes.\n",
    "    - `encapsulamento de KEM` : é usado o encapsulamento de kem , onde coloca como parametro o new_r que contém a mensagem cifrada para ser encapsulada, e a função devolve as cifras e também chave simétrica ´chave_pub´\n",
    "    - `ofuscação da mensagem` : para ofuscar a mensagem é realizado um outro XOR entre a chave simétrica e o r inicial .\n",
    "\n",
    "3. `decifra` : na função de decifrar o ciphertext \"decrypt\":\n",
    "    - `revelação da mensagem` : é chamado a função de KEM de desencapsular a mensagem , onde retorna a chave simétrica\n",
    "    - `obter o r ` : para obter o r é realizado o xor entre a ofuscação gerada e a chave simétrica\n",
    "    - `gerar outra chave ` : a fim de saber se a chave realmente é simétrica é gerado uma nova chave realizando a função encapsulate com a seed gerada\n",
    "    - `obter a mensagem` : para se obter a mensagem e assim ser decifrado , é gerado a função hash sobre o mesmo r inicial , e então o xor entre a função hash e o mcx que foi resultado da mascara xor na cifra.\n",
    "      \n"
   ]
  },
  {
   "cell_type": "code",
   "execution_count": 3,
   "metadata": {},
   "outputs": [],
   "source": [
    "import os,hashlib\n",
    "\n",
    "class PKEFO:\n",
    "    def __init__(self,key_length):\n",
    "        self.kem = ElGamalKEM(key_length)\n",
    "        self.n = key_length\n",
    "\n",
    "\n",
    "    def encrypt(self, message):\n",
    "        # função hash g utilizando uma seed aleatória r , sendo 1 < r < (tamanho da chave)\n",
    "        r = self.kem.generate_rand()\n",
    "        g = hashlib.sha256(str(r).encode()).digest()\n",
    "        #Aplicar XOR à mensagem\n",
    "        maskxor = bytes([a ^ b for a, b in zip(message, g)])\n",
    "        new_r = maskxor + str(r).encode()\n",
    "        new_r_int = int.from_bytes(new_r, \"big\") \n",
    "        \n",
    "        #Cifrar utilizando o KEM da alínea anterior \n",
    "        chave_pub, c1 , c2 = self.kem.encapsulate(new_r_int)\n",
    "\n",
    "        #Com a chave simétrica, aplicando XOR a r\n",
    "        lastXor = bytes([a ^ b for a, b in zip(chave_pub, str(r).encode())])\n",
    "        return maskxor, c1, c2, lastXor\n",
    "\n",
    "    def decrypt(self, mcx, c1, c2, lastXor):\n",
    "        #Obtemos a chave com o KEM definido antes\n",
    "        chave_pub = self.kem.decapsulate(c1,c2)        \n",
    "        \n",
    "        #Aplicamos o XOR com a chave simetrica de ambos para decifrar\n",
    "        r = bytes([a ^ b for a, b in zip(lastXor, chave_pub)])\n",
    "        #y = Integer('0x' + hashlib.sha256(mcx).hexdigest())\n",
    "        new_r = mcx + r\n",
    "        new_r_int = int.from_bytes(new_r, \"big\") \n",
    "\n",
    "        #Encapsular utilizando o exercício anterior \n",
    "        nova_chave_pub , newc1, newc2 = self.kem.encapsulate(new_r_int)\n",
    "    \n",
    "        if chave_pub != nova_chave_pub:\n",
    "            print(\"A chave não é simétrica\")\n",
    "            raise IOError\n",
    "        else:\n",
    "            g = hashlib.sha256(r).digest()\n",
    "            message = bytes([a ^ b for a, b in zip(mcx, g)])\n",
    "                \n",
    "        return message.decode(\"utf-8\")\n",
    "\n",
    "        "
   ]
  },
  {
   "attachments": {},
   "cell_type": "markdown",
   "metadata": {},
   "source": [
    "- Testes na classe"
   ]
  },
  {
   "cell_type": "code",
   "execution_count": 5,
   "metadata": {},
   "outputs": [
    {
     "name": "stdout",
     "output_type": "stream",
     "text": [
      "Mensagem a ser cifrada: Este e o tp2 ex1 do grupo 15\n",
      "Texto decifrado: Este e o tp2 ex1 do grupo 15\n",
      "A mensagem foi decifrada com sucesso!\n"
     ]
    }
   ],
   "source": [
    "pke = PKEFO(1024)\n",
    "\n",
    "#message = os.urandom(32)\n",
    "message = \"Este e o tp2 ex1 do grupo 15\"\n",
    "\n",
    "print(\"Mensagem a ser cifrada: \" + message)\n",
    "\n",
    "# Cifragem da mensagem \n",
    "maskxor, c1, c2, lastXor = pke.encrypt(message.encode('utf-8'))\n",
    "\n",
    "# Decifragem do criptograma\n",
    "try:\n",
    "    message1 = pke.decrypt(maskxor, c1, c2, lastXor)\n",
    "    print(\"Texto decifrado: \" + message1)\n",
    "    if message == message1:\n",
    "        print(\"A mensagem foi decifrada com sucesso!\")\n",
    "    else:\n",
    "        print(\"A mensagem é diferente da original, ocorreu erros...\")\n",
    "except IOError as e:\n",
    "    print(\"Erro ao decifrar a mensagem!!!!\")"
   ]
  },
  {
   "cell_type": "code",
   "execution_count": null,
   "metadata": {},
   "outputs": [],
   "source": []
  }
 ],
 "metadata": {
  "kernelspec": {
   "display_name": "sage",
   "language": "python",
   "name": "python3"
  },
  "language_info": {
   "codemirror_mode": {
    "name": "ipython",
    "version": 3
   },
   "file_extension": ".py",
   "mimetype": "text/x-python",
   "name": "python",
   "nbconvert_exporter": "python",
   "pygments_lexer": "ipython3",
   "version": "3.10.9"
  },
  "orig_nbformat": 4
 },
 "nbformat": 4,
 "nbformat_minor": 2
}
