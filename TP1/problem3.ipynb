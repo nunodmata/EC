{
 "cells": [
  {
   "attachments": {},
   "cell_type": "markdown",
   "metadata": {},
   "source": [
    "## TP1 | Exercício 3 | Grupo 15\n",
    "### Pedro Araújo - pg50684\n",
    "### Nuno Dias Mata - Pg44420"
   ]
  },
  {
   "cell_type": "code",
   "execution_count": 1,
   "metadata": {},
   "outputs": [],
   "source": [
    "import os\n",
    "from cryptography.hazmat.primitives.kdf.hkdf import HKDF\n",
    "from cryptography.hazmat.primitives.ciphers import Cipher, algorithms, modes\n",
    "from cryptography.hazmat.primitives import hmac, hashes\n",
    "from cryptography.hazmat.primitives import padding\n",
    "from cryptography.hazmat.primitives.asymmetric.x448 import X448PrivateKey\n",
    "from cryptography.hazmat.primitives.asymmetric.ed448 import Ed448PrivateKey\n",
    "from cryptography.hazmat.backends import default_backend\n",
    "from logging import raiseExceptions"
   ]
  },
  {
   "attachments": {},
   "cell_type": "markdown",
   "metadata": {},
   "source": [
    "## Emitter\n",
    "Começando por analisar o desenvolvimento do agente emitter, que irá cifrar a mensagem e envia-lo para o receiver"
   ]
  },
  {
   "attachments": {},
   "cell_type": "markdown",
   "metadata": {},
   "source": [
    "- Foi utilizado algumas variáveis de instãncia para a classe , principalmente para guardar os valores das chaves publicas e privadas de autenticação "
   ]
  },
  {
   "cell_type": "code",
   "execution_count": 2,
   "metadata": {},
   "outputs": [],
   "source": [
    "class emitter:\n",
    "    sign = b\"Signing Message\" # assinatura\n",
    "    mac = b\"\"\n",
    "\n",
    "    X_private_key = b\"\"\n",
    "    X_public_key = b\"\"\n",
    "    X_shared_key = b\"\"\n",
    "\n",
    "    Ed_private_key = b\"\"\n",
    "    Ed_public_key = b\"\"\n",
    "    Ed_signature = b\"\" \n",
    "\n",
    "    "
   ]
  },
  {
   "attachments": {},
   "cell_type": "markdown",
   "metadata": {},
   "source": [
    "- Geração das chaves públicas e privadas e também da assinatura, utilizando a curva elíptica de Edwards (Ed448) , para realizar a autenticação dos agentes "
   ]
  },
  {
   "cell_type": "code",
   "execution_count": 3,
   "metadata": {},
   "outputs": [],
   "source": [
    "# geracao da chave privada \n",
    "def gen_edPrivateKey(self):\n",
    "    self.Ed_private_key = Ed448PrivateKey.generate()\n",
    "\n",
    "# geracao da chave publica a partir da chave privada \n",
    "def gen_edPublicKey(self):\n",
    "    self.Ed_public_key = self.Ed_private_key.public_key()\n",
    "\n",
    "# assinatura com a chave privada\n",
    "def sign_edPrivateKey(self):\n",
    "    self.sign = self.Ed_private_key.sign(self.sign)\n",
    "    \n"
   ]
  },
  {
   "attachments": {},
   "cell_type": "markdown",
   "metadata": {},
   "source": [
    "- Geração da chave privada, pública e partilhada utilizada na autenticação por troca de chaves X448 com o receiver, utilizando KDF"
   ]
  },
  {
   "cell_type": "code",
   "execution_count": 4,
   "metadata": {},
   "outputs": [],
   "source": [
    "# geracao da chave privada\n",
    "def gen_XprivateKey(self):\n",
    "    self.X_private_key = X448PrivateKey.generate()\n",
    "\n",
    "# geracao da chave publica do emitter\n",
    "def gen_XpublicKey(self):\n",
    "    self.X_public_key = self.X_private_key.public_key()\n",
    "# gera chave partilhada de sua chave privada misturada com a chave publica do receiver\n",
    "def gen_XsharedKey(self, recPublickey): # esta public key é referente ao receiver\n",
    "    key = self.X_private_key.exchange(recPublickey)\n",
    "    \n",
    "    self.X_shared_key = HKDF(\n",
    "        algorithm=hashes.SHA256(),\n",
    "        length=32,\n",
    "        salt=None,\n",
    "        info=b'this is handshake',\n",
    "    ).derive(key)"
   ]
  },
  {
   "attachments": {},
   "cell_type": "markdown",
   "metadata": {},
   "source": [
    "- Para verificar o acordo entre as chaves, cifrando a chave, de forma que apenas o receiver consiga verificar a chave  "
   ]
  },
  {
   "cell_type": "code",
   "execution_count": 5,
   "metadata": {},
   "outputs": [],
   "source": [
    "def agree_key(self):\n",
    "        nonce = os.urandom(16)\n",
    "        algorithm = algorithms.ChaCha20(self.X_shared_key, nonce)\n",
    "        cifra = Cipher(algorithm, mode=None).encryptor().update(self.X_shared_key)\n",
    "        key = nonce + cifra \n",
    "        return key"
   ]
  },
  {
   "attachments": {},
   "cell_type": "markdown",
   "metadata": {},
   "source": [
    "- Agora passando para a parte de cifrar a mensagem , foi criado uma função auxiliar para gerar os `tweaks`. Foi estruturado o tweak seguindo o Capítulo 1  proposto , utilizando 16 bits, sendo os 8 iniciais para o `nonce` , 7 para o `contador` (caso a tag = 0) ou `tamanho` da mensagem (caso tag = 1) e por fim o último bit para a `tag` (0 caso seja os blocos intermediários, ou 1 caso seja o último bloco)."
   ]
  },
  {
   "cell_type": "code",
   "execution_count": 6,
   "metadata": {},
   "outputs": [],
   "source": [
    "def gen_tweak(self, tag, count):\n",
    "        #tweak = 8 bytes de nonce + 7 de contador + 1 de tag \n",
    "        nonce = os.urandom(8)\n",
    "        return nonce + count.to_bytes(7,byteorder = 'big') + tag.to_bytes(1,byteorder = 'big')"
   ]
  },
  {
   "attachments": {},
   "cell_type": "markdown",
   "metadata": {},
   "source": [
    "- Passando para a encriptação, segue 3 passos , `padding` que coloca bits a mais na mensagem necessário para a divisão dos blocos, `cifragem` utilizando o TPBC que utiliza duas chaves para encriptação ( a chave compartilhada que é fixa e o tweak que varia a cada bloco), e no final é acrescentado bits para a `autenticação` da mensagem.   "
   ]
  },
  {
   "cell_type": "code",
   "execution_count": 7,
   "metadata": {},
   "outputs": [],
   "source": [
    "def cipher(self,message):\n",
    "    # Guardar o tamanho da mensagem \n",
    "    msg_tam = len(message)\n",
    "    # Fazer o padding da mensagem\n",
    "    padder = padding.PKCS7(64).padder()\n",
    "    padded = padder.update(message) + padder.finalize()  \n",
    "    padded_size = len(padded)\n",
    "    criptograma = b''                \n",
    "    count = 0\n",
    "    #Dividir em blocos de 16 a msg \n",
    "    for i in range(0,padded_size,16):\n",
    "        p=padded[i:i+16]\n",
    "        # Os primeiros blocos cifrados com a TPBC controlada por uma chave k mas com tweaks w distintos \n",
    "        if (padded_size>i+16+1):\n",
    "            #Blocos intermédios com tag 0\n",
    "            w = self.gen_tweak(0,count)\n",
    "            #cifra com AES256, no modo de tweaks (XTS)\n",
    "            cipher = Cipher(algorithms.AES(self.X_shared_key), mode=modes.XTS(w))\n",
    "            encryptor = cipher.encryptor().update(p)\n",
    "            criptograma += w + encryptor\n",
    "        #O último bloco como um XOR de uma máscara gerada\n",
    "        else:\n",
    "            #Ultimo bloco com tag 1 \n",
    "            w = self.generate_tweak(1,msg_tam)\n",
    "            criptograma += w \n",
    "            mid = b''\n",
    "            for index, byte in enumerate(p): \n",
    "                #aplicar a máscara XOR aos blocos . Esta mascara é compostas pela shared_key + tweak \n",
    "                mask = self.X_shared_key + w\n",
    "                mid += bytes([byte ^ mask[0:16][0]])\n",
    "            criptograma += mid\n",
    "             \n",
    "        count += 1\n",
    "    \n",
    "\n",
    "    #Adicionalmente é enviada uma secção de autenticação para verificação antes de decifrar a mensagem\n",
    "    h = hmac.HMAC(self.X_shared_key, hashes.SHA256(), backend=default_backend())\n",
    "    h.update(criptograma)\n",
    "    self.mac = h.finalize()\n",
    "    ciphertext = self.mac + criptograma \n",
    "    return ciphertext"
   ]
  },
  {
   "attachments": {},
   "cell_type": "markdown",
   "metadata": {},
   "source": [
    "## Receiver\n",
    "\n",
    "Agora iremos analisar o agente receiver que irá verificar a autenticação das chaves e assinatura , e depois irá decifrar o criptograma"
   ]
  },
  {
   "cell_type": "code",
   "execution_count": 8,
   "metadata": {},
   "outputs": [],
   "source": [
    "class receiver:\n",
    "    X_private_key = b\"\"\n",
    "    X_public_key = b\"\"\n",
    "    X_shared_key = b\"\"\n",
    "    tweak = b\"\"\n",
    "    sign = b\"Signing Message\" "
   ]
  },
  {
   "attachments": {},
   "cell_type": "markdown",
   "metadata": {},
   "source": [
    "- Da mesma forma que foi realizado no emitter , é gerado as chaves X448, e chave partilhada vinda do emitter"
   ]
  },
  {
   "cell_type": "code",
   "execution_count": 9,
   "metadata": {},
   "outputs": [],
   "source": [
    "# geracao da chave privada\n",
    "def gen_XprivateKey(self):\n",
    "    self.X_private_key = X448PrivateKey.generate()\n",
    "\n",
    "# geracao da chave publica do emitter\n",
    "def gen_XpublicKey(self):\n",
    "    self.X_public_key = self.X_private_key.public_key()\n",
    "# gera chave partilhada de sua chave privada misturada com a chave publica do receiver\n",
    "def gen_XsharedKey(self, emiPublickey): # esta public key é referente ao emitter\n",
    "    key = self.X_private_key.exchange(emiPublickey)\n",
    "    \n",
    "    self.X_shared_key = HKDF(\n",
    "        algorithm=hashes.SHA256(),\n",
    "        length=32,\n",
    "        salt=None,\n",
    "        info=b'this is handshake',\n",
    "    ).derive(key)"
   ]
  },
  {
   "attachments": {},
   "cell_type": "markdown",
   "metadata": {},
   "source": [
    "- O receiver recebe a chave pública do emitter e confere se assinatura é a correspondente"
   ]
  },
  {
   "cell_type": "code",
   "execution_count": 10,
   "metadata": {},
   "outputs": [],
   "source": [
    "def check_EdSign(self, signature, public_key):\n",
    "        try:\n",
    "            public_key.verify(signature, self.sign)\n",
    "        except:\n",
    "            raiseExceptions(\"A Autenticação falhou!\")"
   ]
  },
  {
   "attachments": {},
   "cell_type": "markdown",
   "metadata": {},
   "source": [
    "- Verificar se o acordo entre as chaves foi realizado com sucesso"
   ]
  },
  {
   "cell_type": "code",
   "execution_count": 11,
   "metadata": {},
   "outputs": [],
   "source": [
    "def check_key(self, cryptog):\n",
    "        nonce = cryptog[0:16] \n",
    "        key = cryptog[16:] \n",
    "        algorithm = algorithms.ChaCha20(self.X_shared_key, nonce)\n",
    "        cipher = Cipher(algorithm, mode=None)\n",
    "        decryptor = cipher.decryptor()\n",
    "        key = decryptor.update(key)\n",
    "        #Se corresponder à chave partilhada :\n",
    "        if key == self.X_shared_key:\n",
    "            print(\"\\nAs chaves foram autenticadas com sucesso\\n\")\n",
    "        else:\n",
    "            raiseExceptions(\"Houve erro durante a verificação das chaves\")"
   ]
  },
  {
   "attachments": {},
   "cell_type": "markdown",
   "metadata": {},
   "source": [
    "- Verificar se assinatura do criptograma é igual ao que foi acordado"
   ]
  },
  {
   "cell_type": "code",
   "execution_count": 12,
   "metadata": {},
   "outputs": [],
   "source": [
    "def check_MacAuth(self, cptext, signature):\n",
    "        h = hmac.HMAC(self.X_shared_key, hashes.SHA256())\n",
    "\n",
    "        h.update(cptext)\n",
    "\n",
    "        r = True\n",
    "        if not h.verify(signature):\n",
    "            r = False\n",
    "        return r"
   ]
  },
  {
   "attachments": {},
   "cell_type": "markdown",
   "metadata": {},
   "source": [
    "- Para decifrar o criptograma é necessário retirar os componentes do tweak que foram utilizados na cifragem "
   ]
  },
  {
   "cell_type": "code",
   "execution_count": 13,
   "metadata": {},
   "outputs": [],
   "source": [
    "def recov_tweak(self, tweak):\n",
    "        count = int.from_bytes(tweak[8:15], byteorder = 'big')\n",
    "        tag = tweak[15]\n",
    "        return count, tag"
   ]
  },
  {
   "attachments": {},
   "cell_type": "markdown",
   "metadata": {},
   "source": [
    "- Seguindo a mesma lógica na cifragem , para gerar o `cleartext` segue os passos de : checar `autenticidade` da mensagem, `decifrar` e `unpadding`."
   ]
  },
  {
   "cell_type": "code",
   "execution_count": 14,
   "metadata": {},
   "outputs": [],
   "source": [
    "def decipher(self, criptograma):\n",
    "        # primeiros bytes de autenticação MAC\n",
    "        mac = criptograma[0:32]\n",
    "        # o resto é o criptograma\n",
    "        cpt = criptograma[32:]\n",
    "        if(self.check_MacAuth(cpt,mac)==False):\n",
    "            raiseExceptions(\"Erro com autenticação MAC!\")\n",
    "            return\n",
    "    \n",
    "        plaintext = b''\n",
    "        msgBlock = b''\n",
    "\n",
    "        \n",
    "        tweak = cpt[0:16]\n",
    "        block = cpt[16:32]\n",
    "        i = 1\n",
    "        count, tag = self.recov_tweak(tweak)\n",
    "        while(tag!=1):\n",
    "            cipher = Cipher(algorithms.AES(self.X_shared_key), mode=modes.XTS(tweak))\n",
    "            decryptor = cipher.decryptor()\n",
    "            msgBlock = decryptor.update(block) \n",
    "            plaintext += msgBlock\n",
    "            tweak = cpt[i*32:i*32 +16]  \n",
    "            block = cpt[i*32 +16:(i+1)*32]\n",
    "            count, tag = self.degenerate_tweak(tweak)\n",
    "            i+= 1\n",
    "        if (tag == 1):\n",
    "            lastBlock =b''\n",
    "            for _, byte in enumerate(block): \n",
    "                #máscaras XOR   \n",
    "                mask = self.X_shared_key + tweak\n",
    "                lastBlock += bytes([byte ^ mask[0:16][0]])\n",
    "            plaintext += lastBlock       \n",
    "\n",
    "        # Fazer unpadding da msg \n",
    "        unpadder = padding.PKCS7(64).unpadder()\n",
    "        unpadded_message = unpadder.update(plaintext) + unpadder.finalize()\n",
    "\n",
    "        # O último \"contador\" vai ser o comprimento da mensagem decifrada , então verificar se não houve perdas\n",
    "        if (len(unpadded_message.decode(\"utf-8\")) == count):\n",
    "            print(\"Sucesso na decifra\")\n",
    "            return unpadded_message.decode(\"utf-8\")\n",
    "        else: raiseExceptions(\"Houve erros na decifra\")"
   ]
  },
  {
   "attachments": {},
   "cell_type": "markdown",
   "metadata": {},
   "source": [
    "- O algoritmo todo da classe emitter"
   ]
  },
  {
   "cell_type": "code",
   "execution_count": 15,
   "metadata": {},
   "outputs": [],
   "source": [
    "class emitter:\n",
    "    message = b\"Hello World\" # the message to be transmited\n",
    "    sign = b\"Signing Message\" # assinatura\n",
    "    mac = b\"\"\n",
    "\n",
    "    X_private_key = b\"\"\n",
    "    X_public_key = b\"\"\n",
    "    X_shared_key = b\"\"\n",
    "\n",
    "    Ed_private_key = b\"\"\n",
    "    Ed_public_key = b\"\"\n",
    "    Ed_signature = b\"\" \n",
    "\n",
    "    # geracao da chave privada \n",
    "    def gen_edPrivateKey(self):\n",
    "        self.Ed_private_key = Ed448PrivateKey.generate()\n",
    "\n",
    "    # geracao da chave publica a partir da chave privada \n",
    "    def gen_edPublicKey(self):\n",
    "        self.Ed_public_key = self.Ed_private_key.public_key()\n",
    "\n",
    "    # assinatura com a chave privada\n",
    "    def sign_edPrivateKey(self):\n",
    "        self.sign = self.Ed_private_key.sign(self.sign)\n",
    "\n",
    "\n",
    "    # geracao da chave privada\n",
    "    def gen_XprivateKey(self):\n",
    "        self.X_private_key = X448PrivateKey.generate()\n",
    "\n",
    "    # geracao da chave publica do emitter\n",
    "    def gen_XpublicKey(self):\n",
    "        self.X_public_key = self.X_private_key.public_key()\n",
    "    # gera chave partilhada de sua chave privada misturada com a chave publica do receiver\n",
    "    def gen_XsharedKey(self, recPublickey): # esta public key é referente ao receiver\n",
    "        key = self.X_private_key.exchange(recPublickey)\n",
    "        \n",
    "        self.X_shared_key = HKDF(\n",
    "            algorithm=hashes.SHA256(),\n",
    "            length=32,\n",
    "            salt=None,\n",
    "            info=b'this is handshake',\n",
    "        ).derive(key)    \n",
    "    \n",
    "    def agree_key(self):\n",
    "        nonce = os.urandom(16)\n",
    "        algorithm = algorithms.ChaCha20(self.X_shared_key, nonce)\n",
    "        cifra = Cipher(algorithm, mode=None).encryptor().update(self.X_shared_key)\n",
    "        key = nonce + cifra \n",
    "        return key\n",
    "    \n",
    "\n",
    "    def gen_tweak(self, tag, count):\n",
    "        #tweak = 8 bytes de nonce + 7 de contador + 1 de tag \n",
    "        nonce = os.urandom(8)\n",
    "        return nonce + count.to_bytes(7,byteorder = 'big') + tag.to_bytes(1,byteorder = 'big')\n",
    "    \n",
    "        \n",
    "    def cipher(self,message):\n",
    "    # Guardar o tamanho da mensagem \n",
    "        msg_tam = len(message)\n",
    "        # Fazer o padding da mensagem\n",
    "        padder = padding.PKCS7(64).padder()\n",
    "        padded = padder.update(message) + padder.finalize()  \n",
    "        padded_size = len(padded)\n",
    "        criptograma = b''                \n",
    "        count = 0\n",
    "        #Dividir em blocos de 16 a msg \n",
    "        for i in range(0,padded_size,16):\n",
    "            p=padded[i:i+16]\n",
    "            # Os primeiros blocos cifrados com a TPBC controlada por uma chave k mas com tweaks w distintos \n",
    "            if (padded_size>i+16+1):\n",
    "                #Blocos intermédios com tag 0\n",
    "                w = self.gen_tweak(0,count)\n",
    "                #cifra com AES256, no modo de tweaks (XTS)\n",
    "                cipher = Cipher(algorithms.AES(self.X_shared_key), mode=modes.XTS(w))\n",
    "                encryptor = cipher.encryptor().update(p)\n",
    "                criptograma += w + encryptor\n",
    "            #O último bloco como um XOR de uma máscara gerada\n",
    "            else:\n",
    "                #Ultimo bloco com tag 1 \n",
    "                w = self.gen_tweak(1,msg_tam)\n",
    "                criptograma += w \n",
    "                mid = b''\n",
    "                for index, byte in enumerate(p): \n",
    "                    #aplicar a máscara XOR aos blocos . Esta mascara é compostas pela shared_key + tweak \n",
    "                    mask = self.X_shared_key + w\n",
    "                    mid += bytes([byte ^ mask[0:16][0]])\n",
    "                criptograma += mid\n",
    "                 \n",
    "            count += 1\n",
    "        \n",
    "    \n",
    "        #Adicionalmente é enviada uma secção de autenticação para verificação antes de decifrar a mensagem\n",
    "        h = hmac.HMAC(self.X_shared_key, hashes.SHA256(), backend=default_backend())\n",
    "        h.update(criptograma)\n",
    "        self.mac = h.finalize()\n",
    "        ciphertext = self.mac + criptograma \n",
    "        return ciphertext"
   ]
  },
  {
   "attachments": {},
   "cell_type": "markdown",
   "metadata": {},
   "source": [
    "- O algoritmo completo da classe receiver "
   ]
  },
  {
   "cell_type": "code",
   "execution_count": 16,
   "metadata": {},
   "outputs": [],
   "source": [
    "\n",
    "\n",
    "class receiver:\n",
    "    X_private_key = b\"\"\n",
    "    X_public_key = b\"\"\n",
    "    X_shared_key = b\"\"\n",
    "    tweak = b\"\"\n",
    "    sign = b\"Signing Message\" \n",
    "\n",
    "        # geracao da chave privada\n",
    "    def gen_XprivateKey(self):\n",
    "        self.X_private_key = X448PrivateKey.generate()\n",
    "\n",
    "    # geracao da chave publica do emitter\n",
    "    def gen_XpublicKey(self):\n",
    "        self.X_public_key = self.X_private_key.public_key()\n",
    "    # gera chave partilhada de sua chave privada misturada com a chave publica do receiver\n",
    "    def gen_XsharedKey(self, emiPublickey): # emitter public key\n",
    "        key = self.X_private_key.exchange(emiPublickey)\n",
    "        \n",
    "        self.X_shared_key = HKDF(\n",
    "            algorithm=hashes.SHA256(),\n",
    "            length=32,\n",
    "            salt=None,\n",
    "            info=b'this is handshake',\n",
    "        ).derive(key)\n",
    "    \n",
    "    def check_EdSign(self, signature, public_key):\n",
    "            try:\n",
    "                public_key.verify(signature, self.sign)\n",
    "            except:\n",
    "                raiseExceptions(\"A Autenticação falhou!\")\n",
    "                \n",
    "    def check_key(self, cryptog):\n",
    "            nonce = cryptog[0:16] \n",
    "            key = cryptog[16:] \n",
    "            algorithm = algorithms.ChaCha20(self.X_shared_key, nonce)\n",
    "            cipher = Cipher(algorithm, mode=None)\n",
    "            decryptor = cipher.decryptor()\n",
    "            key = decryptor.update(key)\n",
    "            #Se corresponder à chave partilhada :\n",
    "            if key == self.X_shared_key:\n",
    "                print(\"\\nAs chaves foram autenticadas com sucesso seguindo X448\\n\")\n",
    "            else:\n",
    "                raiseExceptions(\"Houve erro durante a verificação das chaves\")\n",
    "\n",
    "    def check_MacAuth(self, cptext, signature):\n",
    "            h = hmac.HMAC(self.X_shared_key, hashes.SHA256())\n",
    "\n",
    "            h.update(cptext)\n",
    "\n",
    "            r = True\n",
    "            if not h.verify(signature):\n",
    "                r = False\n",
    "            return r\n",
    "\n",
    "    def recov_tweak(self, tweak):\n",
    "            count = int.from_bytes(tweak[8:15], byteorder = 'big')\n",
    "            tag = tweak[15]\n",
    "            return count, tag\n",
    "\n",
    "    def decipher(self, criptograma):\n",
    "            # primeiros bytes de autenticação MAC\n",
    "            mac = criptograma[0:32]\n",
    "            # o resto é o criptograma\n",
    "            cpt = criptograma[32:]\n",
    "            \n",
    "            plaintext = b''\n",
    "            msgBlock = b''\n",
    "            \n",
    "            try:\n",
    "                self.check_MacAuth(cpt,mac)\n",
    "            except:    \n",
    "                raiseExceptions(\"Erro com autenticação MAC!\")\n",
    "                return\n",
    "        \n",
    "            tweak = cpt[0:16]\n",
    "            block = cpt[16:32]\n",
    "            i = 1\n",
    "            count, tag = self.recov_tweak(tweak)\n",
    "            while(tag!=1):\n",
    "                cipher = Cipher(algorithms.AES(self.X_shared_key), mode=modes.XTS(tweak))\n",
    "                decryptor = cipher.decryptor()\n",
    "                msgBlock = decryptor.update(block) \n",
    "                plaintext += msgBlock\n",
    "                tweak = cpt[i*32:i*32 +16]  \n",
    "                block = cpt[i*32 +16:(i+1)*32]\n",
    "                count, tag = self.recov_tweak(tweak)\n",
    "                i+= 1\n",
    "            if (tag == 1):\n",
    "                lastBlock =b''\n",
    "                for _, byte in enumerate(block): \n",
    "                    #máscaras XOR   \n",
    "                    mask = self.X_shared_key + tweak\n",
    "                    lastBlock += bytes([byte ^ mask[0:16][0]])\n",
    "                plaintext += lastBlock       \n",
    "\n",
    "            # Fazer unpadding da msg \n",
    "            unpadder = padding.PKCS7(64).unpadder()\n",
    "            unpadded_message = unpadder.update(plaintext) + unpadder.finalize()\n",
    "\n",
    "            # O último \"contador\" vai ser o comprimento da mensagem decifrada , então verificar se não houve perdas\n",
    "            if (len(unpadded_message.decode(\"utf-8\")) == count):\n",
    "                print(\"Sucesso na decifra\")\n",
    "                return unpadded_message.decode(\"utf-8\")\n",
    "            else: \n",
    "                raiseExceptions(\"Houve erros na decifra\")\n",
    "                return"
   ]
  },
  {
   "attachments": {},
   "cell_type": "markdown",
   "metadata": {},
   "source": [
    "- Agora foi realizado testes na comunicação entre o receiver e o emitter "
   ]
  },
  {
   "cell_type": "code",
   "execution_count": 17,
   "metadata": {},
   "outputs": [
    {
     "name": "stdout",
     "output_type": "stream",
     "text": [
      "\n",
      "As chaves foram autenticadas com sucesso seguindo X448\n",
      "\n",
      "Sucesso na decifra\n",
      "Criptograma: \n",
      " b'\\xe9\\x81\\xf0\\xae\\x05\\x1dW\\xb5\\x99\\x11\\x92w\\xd9a4\\xf5\\x02(\\x89\\x83Y\\x80\\xed%\\x9f\\xfd%\\x9b\\xb5\\xac\\x98\\x9c\\xf4T1sS\\xdb\\x9c\\x89\\x00\\x00\\x00\\x00\\x00\\x00\\x0c\\x01mNC\\x02EPWRM\\x02\\x13\\x17&&&&'\n",
      "Mensagem : \n",
      " Ola grupo 15\n"
     ]
    }
   ],
   "source": [
    "def x448_init(emitter,receiver):\n",
    "    emitter.gen_XprivateKey()\n",
    "    receiver.gen_XprivateKey()\n",
    "    emitter.gen_XpublicKey()\n",
    "    receiver.gen_XpublicKey()\n",
    "\n",
    "def ed_init(emitter):\n",
    "    emitter.gen_edPrivateKey()\n",
    "    emitter.sign_edPrivateKey()\n",
    "    emitter.gen_edPublicKey()\n",
    "\n",
    "\n",
    "def gen_sharedKey(emitter,receiver):\n",
    "    emitter.gen_XsharedKey(receiver.X_public_key)\n",
    "    receiver.gen_XsharedKey(emitter.X_public_key)\n",
    "\n",
    "msg = input(\"Introduza a mensagem para cifrar:\")\n",
    "emitter = emitter()\n",
    "receiver = receiver()\n",
    "ed_init(emitter)\n",
    "receiver.check_EdSign(emitter.sign, emitter.Ed_public_key)\n",
    "x448_init(emitter,receiver)\n",
    "gen_sharedKey(emitter,receiver)\n",
    "\n",
    "# Verificar se as chaves foram tão autenticadas seguindo X448\n",
    "emiKey= emitter.agree_key() \n",
    "receiver.check_key(emiKey)\n",
    "\n",
    "ciphertext = emitter.cipher(msg.encode('utf-8'))\n",
    "plaintext = receiver.decipher(ciphertext)\n",
    "print(\"Criptograma: \\n\" , ciphertext)\n",
    "print(\"Mensagem : \\n\" , plaintext)\n"
   ]
  },
  {
   "attachments": {},
   "cell_type": "markdown",
   "metadata": {},
   "source": []
  }
 ],
 "metadata": {
  "kernelspec": {
   "display_name": "sage",
   "language": "python",
   "name": "python3"
  },
  "language_info": {
   "codemirror_mode": {
    "name": "ipython",
    "version": 3
   },
   "file_extension": ".py",
   "mimetype": "text/x-python",
   "name": "python",
   "nbconvert_exporter": "python",
   "pygments_lexer": "ipython3",
   "version": "3.10.9"
  },
  "orig_nbformat": 4
 },
 "nbformat": 4,
 "nbformat_minor": 2
}
