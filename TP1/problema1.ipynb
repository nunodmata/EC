{
  "nbformat": 4,
  "nbformat_minor": 0,
  "metadata": {
    "colab": {
      "provenance": []
    },
    "kernelspec": {
      "name": "python3",
      "display_name": "Python 3"
    },
    "language_info": {
      "name": "python"
    }
  },
  "cells": [
    {
      "cell_type": "markdown",
      "source": [
        "# TP1 | Exercício 1 | Grupo 15"
      ],
      "metadata": {
        "id": "Kf7mZoN7M9Kz"
      }
    },
    {
      "cell_type": "markdown",
      "source": [
        "## Nuno Mata - pg44420\n",
        "## Pedro Araújo - pg50684"
      ],
      "metadata": {
        "id": "adfn0_hZNBXu"
      }
    },
    {
      "cell_type": "markdown",
      "source": [
        "### Problema 1 \n",
        "\n",
        "Use a package Criptography  para:\n",
        "\n",
        "\n",
        "1.   Criar um comunicação privada assíncrona entre um agente Emitter e um agente Receiver que cubra os seguintes aspectos:\n",
        "\n",
        "    *   Autenticação do criptograma e dos metadados (associated data). Usar uma cifra simétrica  num modo **HMAC**  que seja seguro contra ataques aos “nounces”.\n",
        "    *   Os “nounces” são gerados por um gerador pseudo aleatório (PRG) construído por um função de hash em modo XOF.\n",
        "    *   O par de chaves* cipher_key*, *mac_key*, para cifra e autenticação, é acordado entre agentes usando o protocolo **ECDH** com autenticação dos agentes usando assinaturas **ECDSA**.\n",
        "\n",
        "\n",
        "\n",
        "\n",
        "\n"
      ],
      "metadata": {
        "id": "2ZT9tSEufwxL"
      }
    },
    {
      "cell_type": "code",
      "source": [
        "!pip install cryptography"
      ],
      "metadata": {
        "colab": {
          "base_uri": "https://localhost:8080/"
        },
        "id": "d8G2iGfdNHjS",
        "outputId": "13fa5c9e-62b8-427c-8399-f13801ac10bb"
      },
      "execution_count": 74,
      "outputs": [
        {
          "output_type": "stream",
          "name": "stdout",
          "text": [
            "Looking in indexes: https://pypi.org/simple, https://us-python.pkg.dev/colab-wheels/public/simple/\n",
            "Requirement already satisfied: cryptography in /usr/local/lib/python3.8/dist-packages (39.0.2)\n",
            "Requirement already satisfied: cffi>=1.12 in /usr/local/lib/python3.8/dist-packages (from cryptography) (1.15.1)\n",
            "Requirement already satisfied: pycparser in /usr/local/lib/python3.8/dist-packages (from cffi>=1.12->cryptography) (2.21)\n"
          ]
        }
      ]
    },
    {
      "cell_type": "code",
      "source": [
        "from cryptography.hazmat.primitives.asymmetric import ec \n",
        "from cryptography.hazmat.primitives import hashes, hmac, cmac\n",
        "from cryptography.hazmat.primitives.kdf.hkdf import HKDF\n",
        "from cryptography.hazmat.primitives import serialization,hashes\n",
        "from cryptography.hazmat.primitives.ciphers.aead import AESGCM\n",
        "from cryptography.hazmat.primitives.ciphers import Cipher, algorithms, modes\n",
        "from cryptography.exceptions import *\n",
        "import os\n",
        "import base64\n",
        "import sys\n",
        "import io"
      ],
      "metadata": {
        "id": "3ZIvucZ9Nh7p"
      },
      "execution_count": 75,
      "outputs": []
    },
    {
      "cell_type": "markdown",
      "source": [
        "Partindo da criação das chaves privadas para o Emitter e Reciever é possível gerar as suas respetivas chaves públicas, que serão necessárias no processo de verificação. Estas chaves (privadas e públicas) são ainda usadas para gerar chaves partilhadas entre ambas as entidades para depois serem utilizadas na fase de autênticação das mensagens de forma a assegurar a sua autênticidade e integridade.   "
      ],
      "metadata": {
        "id": "yP-3_xK5ozPy"
      }
    },
    {
      "cell_type": "code",
      "source": [
        "def generate_public_key(private_key):\n",
        "        return private_key.public_key()\n",
        "\n",
        "def key_derivation(private_key,public):\n",
        "        shared_key = private_key.exchange(ec.ECDH(), public)\n",
        "        \n",
        "        derived_key = HKDF(\n",
        "            algorithm=hashes.SHA256(),\n",
        "            length=32,\n",
        "            salt=None,\n",
        "            info=b'handshake data',\n",
        "        ).derive(shared_key)\n",
        "\n",
        "        return derived_key"
      ],
      "metadata": {
        "id": "AXzr7qsSNj-j"
      },
      "execution_count": 76,
      "outputs": []
    },
    {
      "cell_type": "markdown",
      "source": [
        "Em seguida geramos uma assinatura através da combinação da chave partilhada e a função hash SHA-256, que vai ser concatenada na mensagem enviada para o recetor (Receiver) para que este posteriormente possa verificar a autenticidade do emissor (Emitter)."
      ],
      "metadata": {
        "id": "cDoaA4xdzgwu"
      }
    },
    {
      "cell_type": "code",
      "source": [
        "def auth(message,derived_key):\n",
        "        h = hmac.HMAC(derived_key, hashes.SHA256())\n",
        "        h.update(message)\n",
        "        return h.finalize()"
      ],
      "metadata": {
        "id": "OhT5B_f-zUkP"
      },
      "execution_count": 77,
      "outputs": []
    },
    {
      "cell_type": "markdown",
      "source": [
        "Aqui é gerado um nonce, que vai assegurar que a mensagem *plaintext* cifrada vai sempre resultar num *ciphertext* diferente. Para isto é utilizada a funçao *urandom()* que cria uma string, neste caso de 16 bytes, totalmente aleatória.\n",
        "\n",
        "A cifra usada posteriormente é a AESGCM, fazendo a cifra da mensagem ao qual é concatenado o nonce e a assinatura para que seja enviada ao recetor.\n",
        "\n",
        "curiosidade: A função *urandom()* é mais recomendada para este tipo de tarefa do que a mais conhecida *random* do *python* pois afirma-se que a sua \"aleatoriedade\" provém uma entropia de muitas fontes imprevisíveis, tornando-a mais aleatória.\n",
        "\n"
      ],
      "metadata": {
        "id": "X5xLWl-A1AHz"
      }
    },
    {
      "cell_type": "code",
      "source": [
        "def cifraGCM(nonce,message,derived_key):\n",
        "    aesgcm = AESGCM(derived_key)\n",
        "    return aesgcm.encrypt(nonce, message, b'some associated data')\n",
        "\n",
        "def send_message(message,derived_key):\n",
        "        signature = auth(b'Assinatura OK.',derived_key)\n",
        "        message = message.encode('utf-8')\n",
        "        nonce = os.urandom(16)\n",
        "        concatenated_m = cifraGCM(nonce,message,derived_key)\n",
        "        \n",
        "        return signature + nonce + concatenated_m"
      ],
      "metadata": {
        "id": "WD4JFLf1zWyK"
      },
      "execution_count": 78,
      "outputs": []
    },
    {
      "cell_type": "markdown",
      "source": [
        "Dividem-se ou faz-se o desempacotamento dos dados do lado do recetor. "
      ],
      "metadata": {
        "id": "E_nLA6Iy8qsY"
      }
    },
    {
      "cell_type": "code",
      "source": [
        "def unpack_data(dados):\n",
        "      signature = dados[0:32]\n",
        "      nonce = dados[32:32+16]\n",
        "      concatenated_m = dados[32+16:]\n",
        "\n",
        "      return signature, nonce, concatenated_m"
      ],
      "metadata": {
        "id": "xBwbWXZDzYDo"
      },
      "execution_count": 79,
      "outputs": []
    },
    {
      "cell_type": "markdown",
      "source": [
        "Depois de desempacotados os dados faz-se a verificação da assinatura (usando o HMAC) da mensagem recebida pelo recetor para podermos passar para o passo de decifragem da mensagem.\n"
      ],
      "metadata": {
        "id": "MMI2t63N9Pm1"
      }
    },
    {
      "cell_type": "code",
      "source": [
        "def verify(signature,derived_key):\n",
        "      h = hmac.HMAC(derived_key, hashes.SHA256())\n",
        "      h.update(b'Assinatura OK.')\n",
        "      return h.verify(signature)"
      ],
      "metadata": {
        "id": "uikJYbESzZ-F"
      },
      "execution_count": 80,
      "outputs": []
    },
    {
      "cell_type": "markdown",
      "source": [
        "Validando-se a assinatura da mensagem recebida passamos à decifragem da mensagem usando a cifra AESGCM\n",
        "\n"
      ],
      "metadata": {
        "id": "ljxz0nFv-CVt"
      }
    },
    {
      "cell_type": "code",
      "source": [
        "def decifraGCM(nonce, concatenated_m, derived_key):\n",
        "    aesgcm = AESGCM(derived_key)\n",
        "    return aesgcm.decrypt(nonce, concatenated_m, b'some associated data')\n",
        "\n",
        "def read_message(concatenated_m, derived_key):\n",
        "      signature, nonce, concatenated_m = unpack_data(concatenated_m)\n",
        "      try :\n",
        "          verify(signature, derived_key)\n",
        "      except:\n",
        "          raise Exception(\"Falha na autenticidade da chave\") \n",
        "\n",
        "      texto_limpo = decifraGCM(nonce, concatenated_m, derived_key)\n",
        "    \n",
        "      return texto_limpo.decode('utf-8')"
      ],
      "metadata": {
        "id": "RzeDfpBdzbLz"
      },
      "execution_count": 81,
      "outputs": []
    },
    {
      "cell_type": "markdown",
      "source": [
        "É enviada a mensagem partindo do emissor para o recetor, que é todo o processo  que envolve ser utilizada assinatura, chave partilhada, mensagem e nonce para assegurar a integridade e autenticidade da mensagem.\n",
        "\n",
        "Por fim é lida a mensagem pelo recetor após efetuar os passos de verificação da mensagem anteriores."
      ],
      "metadata": {
        "id": "MeF-IuywAN5V"
      }
    },
    {
      "cell_type": "code",
      "source": [
        "def main():\n",
        "    receiver_private_key = ec.generate_private_key(ec.SECP384R1())\n",
        "    emiter_private_key = ec.generate_private_key(ec.SECP384R1())\n",
        "    emiter_derived_key = key_derivation(emiter_private_key,generate_public_key(receiver_private_key))\n",
        "    receiver_derived_key = key_derivation(receiver_private_key,generate_public_key(emiter_private_key))\n",
        "    \n",
        "    dados = send_message(\"Olá Grupo 15\", emiter_derived_key)\n",
        "    print('encrypted text:',dados)\n",
        "\n",
        "    try:\n",
        "        plain_text = read_message(dados,receiver_derived_key)\n",
        "        print('decrypted text:', plain_text)\n",
        "    except:\n",
        "        print(\"Falha na autenticação da chave\")  \n",
        "\n",
        "main()"
      ],
      "metadata": {
        "colab": {
          "base_uri": "https://localhost:8080/"
        },
        "id": "phjt3mf_zcyV",
        "outputId": "800a34ae-f0fd-4b8f-b77a-00a41a24862c"
      },
      "execution_count": 82,
      "outputs": [
        {
          "output_type": "stream",
          "name": "stdout",
          "text": [
            "encrypted text: b'\\xe0\\xfbIA\\x9d\\xf8D`1yf\\xbb\\xbf\\xa3 \\x9f\\x1d\\xb0\\xa3\\xe8\"\\x99\\x92\\xb5\\xae\\xc5\\xa9ZN\\xf3\\xa1\\xa4Y\\xd8s\\xf1\\x10\\n\\r\\xcc1\\xa9\\x94q0\\xd7\\x17qh\\x99\\xdb\\x9fM3\\xf7\\xd3\\xac\\x15\"\\xf9}D\\n7\"3\\xae++4\\xbd\\xd1\\x98\\xb6\\xc2\\xf4\\xd7'\n",
            "decrypted text: Olá Grupo 15\n"
          ]
        }
      ]
    }
  ]
}