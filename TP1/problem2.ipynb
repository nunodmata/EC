{
 "cells": [
  {
   "attachments": {},
   "cell_type": "markdown",
   "metadata": {},
   "source": [
    "## TP1 | Exercício 2 | Grupo 15\n",
    "### Pedro Araújo - pg50684\n",
    "### Nuno Dias Mata - Pg44420"
   ]
  },
  {
   "cell_type": "code",
   "execution_count": 1,
   "metadata": {},
   "outputs": [],
   "source": [
    "import os\n",
    "from cryptography.hazmat.primitives import hashes, hmac\n",
    "from cryptography.hazmat.primitives.kdf.pbkdf2 import PBKDF2HMAC\n",
    "from cryptography.hazmat.primitives.asymmetric import dh\n",
    "from cryptography.hazmat.primitives.kdf.hkdf import HKDF\n",
    "import cryptography.exceptions\n",
    "from cryptography.hazmat.primitives import padding\n",
    "from cryptography.hazmat.primitives.asymmetric import dsa\n",
    "from cryptography.hazmat.primitives.ciphers.aead import AESGCM"
   ]
  },
  {
   "attachments": {},
   "cell_type": "markdown",
   "metadata": {},
   "source": [
    "### Emitter\n",
    "\n",
    "Iremos começar por falar da classe emitter e suas funcionalidades"
   ]
  },
  {
   "cell_type": "code",
   "execution_count": 2,
   "metadata": {},
   "outputs": [],
   "source": [
    "class emitter:\n",
    "    seed = b''\n",
    "    sign = b'Group15 signature'\n",
    "    "
   ]
  },
  {
   "attachments": {},
   "cell_type": "markdown",
   "metadata": {},
   "source": [
    "- Primeiramente é necessário gerar a \"seed\" do gerador de chave utilizando um KDF , escolheu-se o PBKDF2HMAC, a partir de uma password "
   ]
  },
  {
   "cell_type": "code",
   "execution_count": 3,
   "metadata": {},
   "outputs": [],
   "source": [
    "def gen_seed(self, password):\n",
    "        #gerar a seed para o PRG usando KDF\n",
    "        kdf = PBKDF2HMAC(\n",
    "            algorithm=hashes.SHA256(),\n",
    "            length=32,\n",
    "            salt=os.urandom(16),\n",
    "            iterations=310000,\n",
    "            )\n",
    "        self.seed = kdf.derive(bytes(password, 'utf-8'))"
   ]
  },
  {
   "attachments": {},
   "cell_type": "markdown",
   "metadata": {},
   "source": [
    "- Após gerado a seed, é possíve criar o gerador pseudo-aleatório utilizando o SHAKE256 para gerar 2^N palavras de 64 bits (8bytes) "
   ]
  },
  {
   "cell_type": "code",
   "execution_count": 4,
   "metadata": {},
   "outputs": [],
   "source": [
    "def gen_prg(self,N):\n",
    "    msgaux = hashes.Hash(hashes.SHAKE256(8 * pow(2,N)))\n",
    "    msgaux.update(self.seed)\n",
    "    return msgaux.finalize()\n",
    "    "
   ]
  },
  {
   "attachments": {},
   "cell_type": "markdown",
   "metadata": {},
   "source": [
    "- Após gerado a chave pseudo aleatória , é possível realizar a cifra que é a implementação do \"One time Pad\",  e conta com 3 fases : padding, fazer XOR aos blocos e acrescentar a autenticação da mensagem ao final"
   ]
  },
  {
   "cell_type": "code",
   "execution_count": 5,
   "metadata": {},
   "outputs": [],
   "source": [
    "def cipher(self,prgMsg,msg):\n",
    "    # Fazer o padding\n",
    "    padder = padding.PKCS7(64).padder()\n",
    "    padded = padder.update(msg) + padder.finalize()\n",
    "    cipherText = b''\n",
    "    for i in range (0,len(padded),8):\n",
    "        m = padded[i:i+8]\n",
    "        for index, block in enumerate(m):  \n",
    "            #fazer XOR aos blocos \n",
    "            cipherText += bytes([block ^ prgMsg[i*8:(i+1)*8][index]])\n",
    "\n",
    "    # Incluir a autenticação na mensagem\n",
    "    hmac = hmac.HMAC(prgMsg, hashes.SHA256())\n",
    "    hmac.update(self.sign)\n",
    "    return hmac.finalize() + cipherText\n",
    "    "
   ]
  },
  {
   "attachments": {},
   "cell_type": "markdown",
   "metadata": {},
   "source": [
    "### Receiver\n",
    "\n",
    "Após analisado as funcionalidade da classe Emitter , iremos verificar a classe receiver desnvolvida"
   ]
  },
  {
   "cell_type": "code",
   "execution_count": 6,
   "metadata": {},
   "outputs": [],
   "source": [
    "class receiver:\n",
    "    sign = b'Group15 signature'\n",
    "    "
   ]
  },
  {
   "attachments": {},
   "cell_type": "markdown",
   "metadata": {},
   "source": [
    "- Como foi realizado e incluido a autenticação no criptograma, é necessário o receiver verificar esta autenticidade na mensagem   "
   ]
  },
  {
   "cell_type": "code",
   "execution_count": 7,
   "metadata": {},
   "outputs": [],
   "source": [
    "def check_MacAuth(self,prg, message):\n",
    "        h = hmac.HMAC(prg, hashes.SHA256())\n",
    "        h.update(message)\n",
    "        try: \n",
    "            h.verify(self.sign)\n",
    "            return True\n",
    "        except cryptography.exceptions.InvalidSignature:\n",
    "            return False"
   ]
  },
  {
   "attachments": {},
   "cell_type": "markdown",
   "metadata": {},
   "source": [
    "- Já no processo de decifrar o criptograma , é primeiro verificado a autenticidade da mensagem, depois passa para fase de decifragem e depois realizar o unpadding daquilo que foi adicionado anteriormente"
   ]
  },
  {
   "cell_type": "code",
   "execution_count": 8,
   "metadata": {},
   "outputs": [],
   "source": [
    "def decipher(self, prg, ciphertext):\n",
    "        \n",
    "        mac = ciphertext[:32]\n",
    "        try:\n",
    "            self.check_MacAuth(prg,mac)\n",
    "        except:    \n",
    "            print(\"Erro com autenticação MAC!\")\n",
    "            return\n",
    "        \n",
    "        criptog = ciphertext[32:]\n",
    "        plaintext = b''\n",
    "        \n",
    "        for i in range (0,len(criptog),8):\n",
    "            msgBlock = criptog[i:i+8]\n",
    "            for ind, block in enumerate(msgBlock):   \n",
    "                plaintext += bytes([block ^ prg[i*8:(i+1)*8][ind]])   \n",
    "        \n",
    "        #fazer o unpadd para remover o padd acrescentado \n",
    "        unpadder = padding.PKCS7(64).unpadder()\n",
    "        unpadded = unpadder.update(plaintext) + unpadder.finalize()\n",
    "        return unpadded.decode('utf-8')"
   ]
  },
  {
   "attachments": {},
   "cell_type": "markdown",
   "metadata": {},
   "source": [
    "### Código completo do Emitter"
   ]
  },
  {
   "cell_type": "code",
   "execution_count": 9,
   "metadata": {},
   "outputs": [],
   "source": [
    "class emitter:\n",
    "    seed = b''\n",
    "    sign = b'Group15 signature'\n",
    "\n",
    "    def gen_seed(self, password):\n",
    "        #gerar a seed para o PRG usando KDF\n",
    "        kdf = PBKDF2HMAC(\n",
    "            algorithm=hashes.SHA256(),\n",
    "            length=32,\n",
    "            salt=os.urandom(16),\n",
    "            iterations=310000,\n",
    "            )\n",
    "        self.seed = kdf.derive(bytes(password, 'utf-8'))\n",
    "\n",
    "    def gen_prg(self,N):\n",
    "        msgaux = hashes.Hash(hashes.SHAKE256(8 * pow(2,N)))\n",
    "        msgaux.update(self.seed)\n",
    "        return msgaux.finalize()\n",
    "    \n",
    "    def cipher(self,prgMsg,msg):\n",
    "        # Fazer o padding\n",
    "        padder = padding.PKCS7(64).padder()\n",
    "        padded = padder.update(msg) + padder.finalize()\n",
    "        cipherText = b''\n",
    "        for i in range (0,len(padded),8):\n",
    "            m = padded[i:i+8]\n",
    "            for index, block in enumerate(m):  \n",
    "                #fazer XOR aos blocos \n",
    "                cipherText += bytes([block ^ prgMsg[i*8:(i+1)*8][index]])\n",
    "\n",
    "        mac = hmac.HMAC(prgMsg, hashes.SHA256())\n",
    "        mac.update(self.sign)\n",
    "        return mac.finalize() + cipherText\n",
    "    \n",
    "        "
   ]
  },
  {
   "attachments": {},
   "cell_type": "markdown",
   "metadata": {},
   "source": [
    "### Código completo do Receiver"
   ]
  },
  {
   "cell_type": "code",
   "execution_count": 10,
   "metadata": {},
   "outputs": [],
   "source": [
    "class receiver:\n",
    "    sign = b'Group15 signature'\n",
    "    \n",
    "    def check_MacAuth(self,prg, message):\n",
    "        h = hmac.HMAC(prg, hashes.SHA256())\n",
    "        h.update(message)\n",
    "        try: \n",
    "            h.verify(self.sign)\n",
    "            return True\n",
    "        except cryptography.exceptions.InvalidSignature:\n",
    "            return False\n",
    "        \n",
    "    def decipher(self, prg, ciphertext):\n",
    "        \n",
    "        mac = ciphertext[:32]\n",
    "        try:\n",
    "            self.check_MacAuth(prg,mac)\n",
    "        except:    \n",
    "            print(\"Erro com autenticação MAC!\")\n",
    "            return\n",
    "        \n",
    "        criptog = ciphertext[32:]\n",
    "        plaintext = b''\n",
    "        \n",
    "        for i in range (0,len(criptog),8):\n",
    "            msgBlock = criptog[i:i+8]\n",
    "            for ind, block in enumerate(msgBlock):   \n",
    "                plaintext += bytes([block ^ prg[i*8:(i+1)*8][ind]])   \n",
    "        \n",
    "        #fazer o unpadd para remover o padd acrescentado \n",
    "        unpadder = padding.PKCS7(64).unpadder()\n",
    "        unpadded = unpadder.update(plaintext) + unpadder.finalize()\n",
    "        return unpadded.decode('utf-8')    "
   ]
  },
  {
   "attachments": {},
   "cell_type": "markdown",
   "metadata": {},
   "source": [
    "### Testes realizado nas classes"
   ]
  },
  {
   "cell_type": "code",
   "execution_count": 11,
   "metadata": {},
   "outputs": [
    {
     "name": "stdout",
     "output_type": "stream",
     "text": [
      "Mensagem a ser cifrada:  Oi grupo 15\n",
      "Valor de N escolhido:  10\n",
      "Cipher text:  b'\\x12G\\x1d\\x8e&\\x994\\xb3\\xfdD\\xa0\\x19\\xcc\\x0f\\xb9D\\x81]\\xb6\\xf2!\\xd5\\x1c.\\x97\\xc9,qt\\xd7\\xed0\\x85\\x1cP\\xa9D\\xc3\\x13d\\x1b\\x9b\\x96\\x0e\\x91\\xf0$\\xfc'\n",
      "Clear text:  Oi grupo 15\n"
     ]
    }
   ],
   "source": [
    "msg = input(\"Introduza a mensagem para cifrar:\")\n",
    "n = input(\"Valor de N:\")\n",
    "password = input(\"Password:\")\n",
    "\n",
    "print(\"Mensagem a ser cifrada: \", msg)\n",
    "print(\"Valor de N escolhido: \", n)\n",
    "emitter = emitter()\n",
    "receiver = receiver()\n",
    "\n",
    "emitter.gen_seed(password)\n",
    "prg = emitter.gen_prg(int(n))\n",
    "\n",
    "ciphertext = emitter.cipher(prg,msg.encode('utf-8'))\n",
    "cleartext = receiver.decipher(prg,ciphertext)\n",
    "\n",
    "print(\"Cipher text: \", ciphertext)\n",
    "print(\"Clear text: \", cleartext)"
   ]
  },
  {
   "cell_type": "code",
   "execution_count": null,
   "metadata": {},
   "outputs": [],
   "source": []
  }
 ],
 "metadata": {
  "kernelspec": {
   "display_name": "sage",
   "language": "python",
   "name": "python3"
  },
  "language_info": {
   "codemirror_mode": {
    "name": "ipython",
    "version": 3
   },
   "file_extension": ".py",
   "mimetype": "text/x-python",
   "name": "python",
   "nbconvert_exporter": "python",
   "pygments_lexer": "ipython3",
   "version": "3.10.9"
  },
  "orig_nbformat": 4
 },
 "nbformat": 4,
 "nbformat_minor": 2
}
